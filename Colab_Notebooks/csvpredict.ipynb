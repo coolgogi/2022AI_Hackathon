{
 "cells": [
  {
   "cell_type": "code",
   "execution_count": null,
   "metadata": {},
   "outputs": [],
   "source": [
    "import pandas as pd\n",
    "from sklearn.svm import SVC\n",
    "from sklearn.model_selection import train_test_split, GridSearchCV\n",
    "from google.colab import drive\n",
    "import joblib\n",
    "import numpy as np\n",
    "from sklearn.metrics import classification_report, accuracy_score\n",
    "import warnings\n",
    "\n",
    "warnings.filterwarnings(action='ignore') \n",
    "drive.mount('/content/gdrive')"
   ]
  },
  {
   "cell_type": "code",
   "execution_count": null,
   "metadata": {},
   "outputs": [],
   "source": [
    "filepath = '/content/gdrive/MyDrive/answerData.csv'\n",
    "data = pd.read_csv(filepath)\n",
    "train, test = train_test_split(data, test_size=0.15, shuffle=True, random_state=34)"
   ]
  },
  {
   "cell_type": "code",
   "execution_count": null,
   "metadata": {},
   "outputs": [],
   "source": [
    "def svc_param_selection(X, y, nfolds): \n",
    "  svm_parameters = [ \n",
    "    {'kernel' : ['rbf'], \n",
    "      'gamma' : [0.00001, 0.0001, 0.001, 0.01, 0.1, 1],\n",
    "      'C' : [0.01, 0.1, 1, 10, 100, 1000]} \n",
    "  ] \n",
    "  #사이킷런에서 제공하는 GridSearchCV를 사용해 최적의 파라미터를 구함 \n",
    "  clf = GridSearchCV(svm.SVC(), svm_parameters, cv=nfolds, scoring='accuracy') \n",
    "  # estimator, param_grid, cross-validation \n",
    "  clf.fit(X_train, y_train.values.ravel()) \n",
    "  \n",
    "  print(clf.best_params_) #최고 점수를 낸 파라미터 출력 \n",
    "  return clf \n",
    "  \n",
    "X_train = train[['Face', 'Color', 'Season', 'Word', 'MBTI(E,I/S,N)', 'MBTI(T,F/J,P)']]\n",
    "y_train = train[['Result']] #최적의 파라미터로 학습된 모델을 clf로 저장 "
   ]
  },
  {
   "cell_type": "code",
   "execution_count": null,
   "metadata": {},
   "outputs": [],
   "source": [
    "clf = svc_param_selection(X_train, y_train.values.ravel(), 10)\n",
    "C_candidates = [] \n",
    "C_candidates.append(clf.best_params_['C'] * 0.01) \n",
    "C_candidates.append(clf.best_params_['C']) \n",
    "C_candidates.append(clf.best_params_['C'] * 100)\n",
    "\n",
    "gamma_candidates = [] \n",
    "gamma_candidates.append(clf.best_params_['gamma'] * 0.01) \n",
    "gamma_candidates.append(clf.best_params_['gamma']) \n",
    "gamma_candidates.append(clf.best_params_['gamma'] * 100)\n",
    "\n",
    "X = train[['Face', 'Color', 'Season', 'Word', 'MBTI(E,I/S,N)', 'MBTI(T,F/J,P)']]\n",
    "Y = train['Result'].tolist()\n",
    "\n",
    "classifiers = []\n",
    "for C in C_candidates: \n",
    "  for gamma in gamma_candidates: \n",
    "    clf = svm.SVC(C=C, gamma=gamma) \n",
    "    clf.fit(X, Y) \n",
    "    classifiers.append((C, gamma, clf))"
   ]
  },
  {
   "cell_type": "code",
   "execution_count": null,
   "metadata": {},
   "outputs": [],
   "source": [
    "X_test = test[['Face', 'Color', 'Season', 'Word', 'MBTI(E,I/S,N)', 'MBTI(T,F/J,P)']] \n",
    "y_test = test[['Result']]\n",
    "\n",
    "print(x_test)\n",
    "y_true, y_pred = y_test, clf.predict(X_test)\n",
    "\n",
    "print(classification_report(y_true, y_pred)) \n",
    "print(\"accuracy :\", str(accuracy_score(y_true, y_pred)))"
   ]
  },
  {
   "cell_type": "code",
   "execution_count": null,
   "metadata": {},
   "outputs": [],
   "source": [
    "comparison = pd.DataFrame({'prediction':y_pred, 'ground_truth':y_true.values.ravel()}) \n",
    "\n",
    "comparison"
   ]
  },
  {
   "cell_type": "code",
   "execution_count": null,
   "metadata": {},
   "outputs": [],
   "source": [
    "# joblib.dump(clf, '/content/gdrive/MyDrive/svc_model.pkl')"
   ]
  }
 ],
 "metadata": {
  "language_info": {
   "name": "python"
  },
  "orig_nbformat": 4
 },
 "nbformat": 4,
 "nbformat_minor": 2
}

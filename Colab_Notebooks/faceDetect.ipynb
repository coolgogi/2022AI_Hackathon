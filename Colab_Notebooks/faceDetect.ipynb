{
 "cells": [
  {
   "cell_type": "markdown",
   "metadata": {},
   "source": [
    "## 크롤링 한 이미지 파일에서 얼굴 부분만 잘라서 저장하는 코드."
   ]
  },
  {
   "cell_type": "code",
   "execution_count": null,
   "metadata": {},
   "outputs": [],
   "source": [
    "from genericpath import isfile\n",
    "from google.colab.patches import cv2_imshow\n",
    "import cv2\n",
    "import os, glob\n",
    "\n",
    "face_cascade = cv2.CascadeClassifier(cv2.data.haarcascades + 'haarcascade_frontalface_default.xml')\n",
    "eye_casecade = cv2.CascadeClassifier(cv2.data.haarcascades + 'haarcascades/haarcascade_eye.xml')\n",
    "\n",
    "\n",
    "label = \"\"\n",
    "imgNum  = 0\n",
    "for filename in glob.glob(f\"/content/drive/MyDrive/images/{label}/*.jpg\"):\n",
    "  img = cv2.imread(filename)\n",
    "  try:\n",
    "    gray = cv2.cvtColor(img, cv2.COLOR_BGR2GRAY)\n",
    "    faces = face_cascade.detectMultiScale(gray, 1.3,5)\n",
    "    for (x,y,w,h) in faces:\n",
    "      rl = x - int(w / 4)\n",
    "      if rl<0: rl=0\n",
    "      rr = x + w + int(w / 4)\n",
    "      ll = y - int(h / 4)\n",
    "      if ll<0: ll=0\n",
    "      lr = y + h + int(h / 4)\n",
    "\n",
    "      cropped = img[ll:lr, rl:rr]\n",
    "      if(not cv2.imwrite(f'/content/drive/MyDrive/faceImages/{label}/{label}' + str(imgNum) + '.jpg', cropped)):\n",
    "        print(\"Something wrong\")\n",
    "      else:\n",
    "        imgNum += 1\n",
    "        print(f'{imgNum} complete.')\n",
    "  except:\n",
    "    continue"
   ]
  }
 ],
 "metadata": {
  "language_info": {
   "name": "python"
  },
  "orig_nbformat": 4
 },
 "nbformat": 4,
 "nbformat_minor": 2
}

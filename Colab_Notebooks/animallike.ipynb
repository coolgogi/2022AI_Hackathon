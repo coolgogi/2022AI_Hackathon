{
 "cells": [
  {
   "cell_type": "code",
   "execution_count": null,
   "metadata": {},
   "outputs": [],
   "source": [
    "import tensorflow as tf\n",
    "from tensorflow import keras\n",
    "from glob import glob\n",
    "from PIL import Image\n",
    "import numpy as np\n",
    "import os\n",
    "import matplotlib.pyplot as plt\n",
    "from sklearn.model_selection import train_test_split\n",
    "from google.colab import drive\n",
    "from tensorflow.keras import datasets, layers, models\n",
    "\n",
    "drive.mount('/content/gdrive')"
   ]
  },
  {
   "cell_type": "code",
   "execution_count": null,
   "metadata": {},
   "outputs": [],
   "source": [
    "label_list = ['cat', 'dog', 'dino', 'fox', 'rabbit']\n",
    "label_dic = {'cat':0, 'dog':1, 'dino':2, 'fox':3, 'rabbit':4}\n",
    "N_CLASS = 5\n",
    "N_DATA = 0\n",
    "N_EPOCHS = 5\n",
    "N_BATCH = 20\n",
    "learning_rate = 0.01\n",
    "count_dic = {}\n",
    "labelandImage = []\n",
    "\n",
    "dir_name = \"/content/gdrive/MyDrive/faceImages/\"\n",
    "for label in label_list:\n",
    "  filenames = glob(dir_name+label+ \"/*.jpg\")\n",
    "  for filename in filenames:\n",
    "    labelandImage.append((label, filename))\n",
    "\n",
    "for label, imagePath in labelandImage:\n",
    "  try: count_dic[label] += 1\n",
    "  except: count_dic[label] = 1\n",
    "N_DATA = sum(count_dic.values())\n",
    "\n",
    "print(count_dic)\n",
    "print(f\"Total : {N_DATA}\")"
   ]
  },
  {
   "cell_type": "code",
   "execution_count": null,
   "metadata": {},
   "outputs": [],
   "source": [
    "X, Y = [], []\n",
    "for label, imagePath in labelandImage:\n",
    "  image = Image.open(imagePath).resize((128, 128)).convert(\"L\")\n",
    "  image = np.array(image)\n",
    "  X.append(image)\n",
    "  Y.append(label_dic[label])\n",
    "X, Y = np.array(X), np.array(Y)\n",
    "\n",
    "train_images, test_images, train_labels, test_labels = train_test_split(X, Y, test_size=0.2, shuffle=True, random_state=44)\n",
    "\n",
    "train_images = train_images.astype(np.float32) / 255.\n",
    "test_images = test_images.astype(np.float32) / 255.\n",
    "\n",
    "\n",
    "N_TRAIN = train_images.shape[0]\n",
    "N_TEST = test_images.shape[0]\n",
    "train_labels = keras.utils.to_categorical(train_labels)\n",
    "test_labels = keras.utils.to_categorical(test_labels)\n",
    "\n",
    "train_dataset = tf.data.Dataset.from_tensor_slices((train_images, train_labels)).shuffle(buffer_size=N_TRAIN).batch(N_BATCH).repeat()\n",
    "test_dataset = tf.data.Dataset.from_tensor_slices((test_images, test_labels)).batch(N_BATCH)\n",
    "\n",
    "print(f\"train image shape: {train_images.shape}\")\n",
    "print(f\"test image shape: {test_images.shape}\")"
   ]
  },
  {
   "cell_type": "code",
   "execution_count": null,
   "metadata": {},
   "outputs": [],
   "source": [
    "# sequential API를 활용하여 model 구성\n",
    "def create_model():\n",
    "  model = tf.keras.Sequential()\n",
    "  model.add(keras.layers.Conv2D(filters=32, kernel_size=3, activation='relu', padding='SAME', input_shape=(128, 128, 1)))\n",
    "  model.add(keras.layers.MaxPool2D(padding='SAME'))\n",
    "  model.add(keras.layers.Conv2D(filters=64, kernel_size=3, activation='relu', padding='SAME'))\n",
    "  model.add(keras.layers.MaxPool2D(padding='SAME'))\n",
    "  model.add(keras.layers.Conv2D(filters=128, kernel_size=3, activation='relu', padding='SAME'))\n",
    "  model.add(keras.layers.MaxPool2D(padding='SAME'))\n",
    "  model.add(keras.layers.Flatten())\n",
    "  model.add(keras.layers.Dense(256, activation='relu'))\n",
    "  model.add(keras.layers.Dropout(0.4))\n",
    "  model.add(keras.layers.Dense(N_CLASS, activation='softmax'))\n",
    "  return model\n",
    "model = create_model()\n",
    "model.compile(optimizer=tf.keras.optimizers.Adam(learning_rate), loss='categorical_crossentropy', metrics=['accuracy'])\n",
    "\n",
    "model.summary()"
   ]
  },
  {
   "cell_type": "code",
   "execution_count": null,
   "metadata": {},
   "outputs": [],
   "source": [
    "steps_per_epoch = N_TRAIN/N_BATCH\n",
    "validation_steps = N_TEST/N_BATCH\n",
    "\n",
    "history = model.fit(train_dataset, epochs=N_EPOCHS, steps_per_epoch=steps_per_epoch, validation_data=test_dataset, validation_steps=validation_steps)"
   ]
  },
  {
   "cell_type": "code",
   "execution_count": null,
   "metadata": {},
   "outputs": [],
   "source": [
    "model.evaluate(test_dataset)\n",
    "\n",
    "plt.plot(history.history['loss'], 'b-', label='loss')\n",
    "plt.plot(history.history['val_loss'], 'r--', label='val_loss')\n",
    "plt.xlabel('Epoch')\n",
    "plt.legend()\n",
    "plt.show()\n",
    "\n",
    "plt.plot(history.history['accuracy'], 'b-', label='accuracy')\n",
    "plt.plot(history.history['val_accuracy'], 'r--', label='val_accuracy')\n",
    "plt.xlabel('Epoch')\n",
    "plt.legend()\n",
    "plt.show()"
   ]
  },
  {
   "cell_type": "code",
   "execution_count": null,
   "metadata": {},
   "outputs": [],
   "source": [
    "def plot_image(i, predictions_array, true_label, img):\n",
    "  predictions_array, true_label, img = predictions_array[i], true_label[i], img[i]\n",
    "  plt.grid(False)\n",
    "  plt.xticks([])\n",
    "  plt.yticks([])\n",
    "  plt.imshow(img)\n",
    "\n",
    "  predicted_label = np.argmax(predictions_array)\n",
    "  color = ''\n",
    "  if predicted_label == true_label:\n",
    "    color = 'blue'\n",
    "  else:\n",
    "    color = 'red'\n",
    "\n",
    "  plt.xlabel(\"{} {:2.0f}% ({})\".format(label_list[predicted_label], 100*np.max(predictions_array), label_list[true_label]), color=color)\n",
    "\n",
    "def plot_value_array(i, predictions_array, true_label):\n",
    "  predictions_array, true_label = predictions_array[i], true_label[i]\n",
    "  plt.grid(False)\n",
    "  plt.xticks(range(N_CLASS), label_list, rotation=90)\n",
    "  plt.yticks([])\n",
    "\n",
    "  thisplot = plt.bar(range(N_CLASS), predictions_array, color=\"#777777\")\n",
    "  plt.ylim([0, 1])\n",
    "  predicted_label = np.argmax(predictions_array)\n",
    "\n",
    "  thisplot[predicted_label].set_color('red')\n",
    "  thisplot[true_label].set_color('blue')"
   ]
  },
  {
   "cell_type": "code",
   "execution_count": null,
   "metadata": {},
   "outputs": [],
   "source": [
    "rnd_idx = np.random.randint(1, N_TEST//N_BATCH)\n",
    "img_cnt = 0\n",
    "for images, labels in test_dataset:\n",
    "  img_cnt += 1\n",
    "  if img_cnt != rnd_idx: continue\n",
    "\n",
    "  predictions = model(images, training=False)\n",
    "  num_rows, num_cols = 2, 4\n",
    "  num_images = num_rows * num_cols\n",
    "  labels = tf.argmax(labels, axis=1)\n",
    "  plt.figure(figsize=(3*2*num_cols, 4*num_rows))\n",
    "  plt.subplots_adjust(hspace=1.0)\n",
    "  \n",
    "  for i in range(num_images):\n",
    "    plt.subplot(num_rows, 2*num_cols, 2*i+1)\n",
    "    plot_image(i, predictions.numpy(), labels.numpy(), images.numpy())\n",
    "    plt.subplot(num_rows, 2*num_cols, 2*i+2)\n",
    "    plot_value_array(i, predictions.numpy(), labels.numpy())\n",
    "  break"
   ]
  },
  {
   "cell_type": "code",
   "execution_count": null,
   "metadata": {},
   "outputs": [],
   "source": [
    "# model.save('/content/gdrive/MyDrive/animallike.h5')"
   ]
  }
 ],
 "metadata": {
  "language_info": {
   "name": "python"
  },
  "orig_nbformat": 4
 },
 "nbformat": 4,
 "nbformat_minor": 2
}
